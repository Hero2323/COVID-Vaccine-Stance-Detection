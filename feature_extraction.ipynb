{
 "cells": [
  {
   "cell_type": "code",
   "execution_count": 2,
   "metadata": {},
   "outputs": [],
   "source": [
    "import pandas as pd\n",
    "from sklearn.feature_extraction.text import TfidfVectorizer,CountVectorizer,TfidfTransformer \n",
    "import numpy\n",
    "import nltk, re, string, collections\n",
    "from nltk.util import ngrams"
   ]
  },
  {
   "cell_type": "code",
   "execution_count": 3,
   "metadata": {},
   "outputs": [],
   "source": [
    "def read_cleaned_data_set():\n",
    "    file = open(\"output/tokens_no_stopwords_train.txt\", encoding='utf-8')\n",
    "    corpus =[]\n",
    "    lines = file.readlines()\n",
    "    for line in lines:\n",
    "        result=line.rstrip('\\n')\n",
    "        if len(result)>0:\n",
    "            result = result[1:len(result)-2]\n",
    "            result=result.replace(\",\",\"\")\n",
    "            result= result.replace(\"'\",\"\")\n",
    "        \n",
    "            corpus.append(result)\n",
    "    return corpus"
   ]
  },
  {
   "cell_type": "code",
   "execution_count": 4,
   "metadata": {},
   "outputs": [],
   "source": [
    "corpus =read_cleaned_data_set()"
   ]
  },
  {
   "cell_type": "code",
   "execution_count": 5,
   "metadata": {},
   "outputs": [],
   "source": [
    "def get_TF_IDF(docs): \n",
    "    #create tf-idf vector & enable idf to calculate them in one steps\n",
    "    tfIdfVectorizer=TfidfVectorizer(use_idf=True)\n",
    "    #get values for docs\n",
    "    tfIdf = tfIdfVectorizer.fit_transform(docs)\n",
    "    # get first tf-idfs for first doc only to be visualized\n",
    "    # get features names mean get words\n",
    "    df = pd.DataFrame(tfIdf[0].T.todense(), index=tfIdfVectorizer.get_feature_names(), columns=[\"TF-IDF\"])\n",
    "    #sorting them\n",
    "    df = df.sort_values('TF-IDF', ascending=False)\n",
    "    #show first 15 of them \n",
    "    print (df.head(15))\n",
    "    \n"
   ]
  },
  {
   "cell_type": "code",
   "execution_count": 6,
   "metadata": {},
   "outputs": [
    {
     "name": "stdout",
     "output_type": "stream",
     "text": [
      "            TF-IDF\n",
      "صيفي      0.243324\n",
      "السيرنجة  0.243324\n",
      "مزايا     0.243324\n",
      "بولو      0.243324\n",
      "اصغر      0.232552\n",
      "مؤهل      0.232552\n",
      "الشتاء    0.224910\n",
      "لابس      0.224910\n",
      "تصوير     0.218981\n",
      "الابرة    0.210042\n",
      "يعنى      0.206495\n",
      "غيتس      0.203366\n",
      "عز        0.198035\n",
      "بيل       0.195723\n",
      "احدى      0.191628\n"
     ]
    }
   ],
   "source": [
    "get_TF_IDF(corpus)"
   ]
  },
  {
   "cell_type": "code",
   "execution_count": 7,
   "metadata": {},
   "outputs": [],
   "source": [
    "def get_n_grams(corpus, n_gram):\n",
    "    all_n_grams=[]\n",
    "    for text in corpus:\n",
    "        text = text.split()\n",
    "       \n",
    "        n_grams = ngrams(text, n_gram)\n",
    "      \n",
    "        all_n_grams+=n_grams\n",
    "    ngramFreq = collections.Counter(all_n_grams)\n",
    "    return ngramFreq\n"
   ]
  },
  {
   "cell_type": "code",
   "execution_count": 8,
   "metadata": {},
   "outputs": [
    {
     "data": {
      "text/plain": [
       "[(('لقاح', 'كورونا'), 1369),\n",
       " (('الجرعة', 'الاولى'), 665),\n",
       " (('الاولى', 'لقاح'), 574),\n",
       " (('يتلقى', 'الجرعة'), 424),\n",
       " (('جرعة', 'لقاح'), 400),\n",
       " (('لقاح', 'فايزر'), 333),\n",
       " (('فيروس', 'كورونا'), 313),\n",
       " (('الجرعة', 'الثانية'), 308),\n",
       " (('لقاح', 'كوفيد'), 239),\n",
       " (('الثانية', 'لقاح'), 234)]"
      ]
     },
     "execution_count": 8,
     "metadata": {},
     "output_type": "execute_result"
    }
   ],
   "source": [
    "result=get_n_grams(corpus,2)\n",
    "result.most_common(10)"
   ]
  },
  {
   "cell_type": "code",
   "execution_count": 10,
   "metadata": {},
   "outputs": [],
   "source": [
    "from nltk.tokenize import sent_tokenize, word_tokenize\n",
    "import gensim\n",
    "from gensim.models import Word2Vec"
   ]
  },
  {
   "cell_type": "code",
   "execution_count": 21,
   "metadata": {},
   "outputs": [],
   "source": [
    "def get_word_embeddings(corpus, min_count=1, vector_size=100, window=5, sg = 1):\n",
    "\tdata = []\n",
    "\tfor i in range(len(corpus)):\n",
    "\t\ttemp = []\n",
    "\t\tfor j in corpus[i].split():\n",
    "\t\t\ttemp.append(j)\n",
    "\t\tdata.append(temp)\n",
    "\t# IMP Note: If the lines below result in an error, change size -> vector_size. It's a version variable naming issue.\n",
    "\t# Create CBOW model\n",
    "\tmodel1 = gensim.models.Word2Vec(data, min_count=min_count, size=vector_size, window=window)\n",
    "\t# Create Skip Gram model\n",
    "\tmodel2 = gensim.models.Word2Vec(data, min_count=min_count, size=vector_size, window=window, sg=sg)\n",
    "\treturn model1, model2"
   ]
  },
  {
   "cell_type": "code",
   "execution_count": 24,
   "metadata": {},
   "outputs": [],
   "source": [
    "cbowModel, sgModel = get_word_embeddings(corpus)"
   ]
  },
  {
   "cell_type": "code",
   "execution_count": 25,
   "metadata": {},
   "outputs": [
    {
     "name": "stdout",
     "output_type": "stream",
     "text": [
      "Cosine similarity between 'لقاح' and 'كورونا' - CBOW :  0.9993876\n",
      "Cosine similarity between 'لقاح' and 'صيفي' - CBOW :  0.8644289\n",
      "Cosine similarity between 'لقاح' and 'كورونا' - Skip Gram :  0.8749478\n",
      "Cosine similarity between 'لقاح' and 'صيفي' - Skip Gram :  0.7042955\n"
     ]
    }
   ],
   "source": [
    "# For CBOW\n",
    "print(\"Cosine similarity between 'لقاح' \" + \"and 'كورونا' - CBOW : \", cbowModel.wv.similarity('لقاح', 'كورونا'))\n",
    "print(\"Cosine similarity between 'لقاح' \" + \"and 'صيفي' - CBOW : \", cbowModel.wv.similarity('لقاح', 'صيفي'))\n",
    "# For Skip Gram\n",
    "print(\"Cosine similarity between 'لقاح' \" + \"and 'كورونا' - Skip Gram : \",\tsgModel.wv.similarity('لقاح', 'كورونا'))\n",
    "print(\"Cosine similarity between 'لقاح' \" + \"and 'صيفي' - Skip Gram : \", sgModel.wv.similarity('لقاح', 'صيفي'))"
   ]
  },
  {
   "cell_type": "code",
   "execution_count": null,
   "metadata": {},
   "outputs": [],
   "source": []
  }
 ],
 "metadata": {
  "kernelspec": {
   "display_name": "Python 3.7.6 ('base')",
   "language": "python",
   "name": "python3"
  },
  "language_info": {
   "codemirror_mode": {
    "name": "ipython",
    "version": 3
   },
   "file_extension": ".py",
   "mimetype": "text/x-python",
   "name": "python",
   "nbconvert_exporter": "python",
   "pygments_lexer": "ipython3",
   "version": "3.7.6"
  },
  "vscode": {
   "interpreter": {
    "hash": "88279d2366fe020547cde40dd65aa0e3aa662a6ec1f3ca12d88834876c85e1a6"
   }
  }
 },
 "nbformat": 4,
 "nbformat_minor": 2
}
