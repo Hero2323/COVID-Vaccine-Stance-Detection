{
 "cells": [
  {
   "cell_type": "code",
   "execution_count": 7,
   "metadata": {},
   "outputs": [],
   "source": [
    "import pandas as pd\n",
    "from sklearn.feature_extraction.text import TfidfVectorizer,CountVectorizer,TfidfTransformer \n",
    "import numpy\n",
    "import nltk, re, string, collections\n",
    "from nltk.util import ngrams"
   ]
  },
  {
   "cell_type": "code",
   "execution_count": 8,
   "metadata": {},
   "outputs": [],
   "source": [
    "def read_cleaned_data_set():\n",
    "    file = open(\"output/tokens_no_stopwords_train.txt\", encoding='utf-8')\n",
    "    corpus =[]\n",
    "    lines = file.readlines()\n",
    "    for line in lines:\n",
    "        result=line.rstrip('\\n')\n",
    "        if len(result)>0:\n",
    "            result = result[1:len(result)-2]\n",
    "            result=result.replace(\",\",\"\")\n",
    "            result= result.replace(\"'\",\"\")\n",
    "        \n",
    "            corpus.append(result)\n",
    "    return corpus"
   ]
  },
  {
   "cell_type": "code",
   "execution_count": 9,
   "metadata": {},
   "outputs": [],
   "source": [
    "corpus =read_cleaned_data_set()\n"
   ]
  },
  {
   "cell_type": "code",
   "execution_count": 10,
   "metadata": {},
   "outputs": [],
   "source": [
    "def get_TF_IDF(docs): \n",
    "    #create tf-idf vector & enable idf to calculate them in one steps\n",
    "    tfIdfVectorizer=TfidfVectorizer(use_idf=True)\n",
    "    #get values for docs\n",
    "    tfIdf = tfIdfVectorizer.fit_transform(docs)\n",
    "    # get first tf-idfs for first doc only to be visualized\n",
    "    # get features names mean get words\n",
    "    df = pd.DataFrame(tfIdf[0].T.todense(), index=tfIdfVectorizer.get_feature_names(), columns=[\"TF-IDF\"])\n",
    "    #sorting them\n",
    "    df = df.sort_values('TF-IDF', ascending=False)\n",
    "    #show first 15 of them \n",
    "    print (df.head(15))\n",
    "    \n"
   ]
  },
  {
   "cell_type": "code",
   "execution_count": 11,
   "metadata": {},
   "outputs": [
    {
     "name": "stdout",
     "output_type": "stream",
     "text": [
      "            TF-IDF\n",
      "صيفي      0.243324\n",
      "السيرنجة  0.243324\n",
      "مزايا     0.243324\n",
      "بولو      0.243324\n",
      "اصغر      0.232552\n",
      "مؤهل      0.232552\n",
      "الشتاء    0.224910\n",
      "لابس      0.224910\n",
      "تصوير     0.218981\n",
      "الابرة    0.210042\n",
      "يعنى      0.206495\n",
      "غيتس      0.203366\n",
      "عز        0.198035\n",
      "بيل       0.195723\n",
      "احدى      0.191628\n"
     ]
    },
    {
     "name": "stderr",
     "output_type": "stream",
     "text": [
      "C:\\Users\\rorod\\anaconda3\\lib\\site-packages\\sklearn\\utils\\deprecation.py:87: FutureWarning: Function get_feature_names is deprecated; get_feature_names is deprecated in 1.0 and will be removed in 1.2. Please use get_feature_names_out instead.\n",
      "  warnings.warn(msg, category=FutureWarning)\n"
     ]
    }
   ],
   "source": [
    "get_TF_IDF(corpus)"
   ]
  },
  {
   "cell_type": "code",
   "execution_count": 42,
   "metadata": {},
   "outputs": [],
   "source": [
    "def get_n_grams(corpus, n_gram):\n",
    "    all_n_grams=[]\n",
    "    for text in corpus:\n",
    "        text = text.split()\n",
    "       \n",
    "        n_grams = ngrams(text, n_gram)\n",
    "      \n",
    "        all_n_grams+=n_grams\n",
    "    ngramFreq = collections.Counter(all_n_grams)\n",
    "    return ngramFreq\n"
   ]
  },
  {
   "cell_type": "code",
   "execution_count": 44,
   "metadata": {},
   "outputs": [
    {
     "data": {
      "text/plain": [
       "[(('لقاح', 'كورونا'), 1369),\n",
       " (('الجرعة', 'الاولى'), 665),\n",
       " (('الاولى', 'لقاح'), 574),\n",
       " (('يتلقى', 'الجرعة'), 424),\n",
       " (('جرعة', 'لقاح'), 400),\n",
       " (('لقاح', 'فايزر'), 333),\n",
       " (('فيروس', 'كورونا'), 313),\n",
       " (('الجرعة', 'الثانية'), 308),\n",
       " (('لقاح', 'كوفيد'), 239),\n",
       " (('الثانية', 'لقاح'), 234)]"
      ]
     },
     "execution_count": 44,
     "metadata": {},
     "output_type": "execute_result"
    }
   ],
   "source": [
    "result=get_n_grams(corpus,2)\n",
    "result.most_common(10)\n"
   ]
  },
  {
   "cell_type": "code",
   "execution_count": null,
   "metadata": {},
   "outputs": [],
   "source": []
  }
 ],
 "metadata": {
  "kernelspec": {
   "display_name": "Python 3 (ipykernel)",
   "language": "python",
   "name": "python3"
  },
  "language_info": {
   "codemirror_mode": {
    "name": "ipython",
    "version": 3
   },
   "file_extension": ".py",
   "mimetype": "text/x-python",
   "name": "python",
   "nbconvert_exporter": "python",
   "pygments_lexer": "ipython3",
   "version": "3.9.12"
  },
  "vscode": {
   "interpreter": {
    "hash": "0de4e91a703ed839300569d00f5f7f96e515c5b82ac00b296860b354eb12ca4a"
   }
  }
 },
 "nbformat": 4,
 "nbformat_minor": 2
}
