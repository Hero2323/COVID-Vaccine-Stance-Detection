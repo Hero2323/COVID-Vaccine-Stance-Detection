{
 "cells": [
  {
   "cell_type": "code",
   "execution_count": 23,
   "metadata": {},
   "outputs": [],
   "source": [
    "import pandas as pd\n",
    "import re\n",
    "import nltk\n",
    "from nltk.stem.isri import ISRIStemmer\n",
    "from tqdm import tqdm"
   ]
  },
  {
   "cell_type": "code",
   "execution_count": 24,
   "metadata": {},
   "outputs": [],
   "source": [
    "train = pd.read_csv('dataset/train.csv')"
   ]
  },
  {
   "cell_type": "code",
   "execution_count": 25,
   "metadata": {},
   "outputs": [
    {
     "data": {
      "text/plain": [
       " 1    5538\n",
       " 0    1012\n",
       "-1     438\n",
       "Name: stance, dtype: int64"
      ]
     },
     "execution_count": 25,
     "metadata": {},
     "output_type": "execute_result"
    }
   ],
   "source": [
    "train['stance'].value_counts()"
   ]
  },
  {
   "cell_type": "code",
   "execution_count": 26,
   "metadata": {},
   "outputs": [],
   "source": [
    "# This function is made because the process of cleaning arabic text is complex\n",
    "# and depends on many unicodes done in many steps\n",
    "def clean_arabic(text):\n",
    "    # ! to understand this nonsense you need this link open \n",
    "    \"\"\" https://ar.wikipedia.org/wiki/%D8%A7%D9%84%D8%AE%D8%B7_\n",
    "        %D8%A7%D9%84%D8%B9%D8%B1%D8%A8%D9%8A_%D9%81%D9%8A_%D9%8A%D9\n",
    "        %88%D9%86%D9%8A%D9%83%D9%88%D8%AF   \"\"\"\n",
    "\n",
    "    # remove التشكيل\n",
    "    text = re.sub(r'[\\u0600-\\u061F]', '', text)\n",
    "    text = re.sub(r'[\\u064B-\\u066D]', '', text)\n",
    "\n",
    "    # Because of all the idiots that were bypassing twitters' spam filters using\n",
    "    # special characters like this idiot: كو.ر.ونا We'll remove all the special \n",
    "    # before everything else\n",
    "\n",
    "    # remove special characters\n",
    "    text = re.sub(r'[\\u0024-\\u003F]', '', text)\n",
    "    text = re.sub(r'[\\u005B-\\u0060]', '', text)\n",
    "    text = re.sub(r'[\\u007B-\\u007E]', '', text)\n",
    "\n",
    "    # replace weird characters with more standard ones\n",
    "    # 1. replace چ with ج\n",
    "    text = re.sub(r'چ','ج',text)\n",
    "\n",
    "    # 2. replace ڤ ڨ with ف\n",
    "    text = re.sub(r'ڤ','ف',text)\n",
    "    text = re.sub(r'ڨ','ف',text)\n",
    "\n",
    "    # 3. replace ڠ with ق\n",
    "    text = re.sub(r'ڠ','غ',text)\n",
    "    \n",
    "    # 4. replace ٱ\tٲ\tٳ\t◌ٴ\tٵ with ا\n",
    "    string = ['ٱ','ٲ','ٳ','ٴ','ٵ', 'آ', 'أ', 'إ']\n",
    "    for char in string:\n",
    "        text = re.sub(char,'ا',text)\n",
    "\n",
    "    # 5. replace ٶ\tٷ with و\n",
    "    string = ['ٶ','ٷ']\n",
    "    for char in string:\n",
    "        text = re.sub(char,'و',text)\n",
    "\n",
    "    # 6. replace ٸ ی with ي\n",
    "    text = re.sub(r'ٸ','ي',text) \n",
    "    text = re.sub(r'ی','ي',text)\n",
    "    \n",
    "    # 7. replace پ\twith ب\n",
    "    text = re.sub(r'پ','ب',text)\n",
    "\n",
    "    # 8. replace ژ with ز\n",
    "    text = re.sub(r'ژ','ز',text)\n",
    "\n",
    "    # 9. replace ک ڪ ګ ڬ ڭ ڮ گ ڰ ڱ ڲ ڳ ڴ with ك\n",
    "    string = ['ک', 'ڪ', 'ګ', 'ڬ', 'ڭ', 'ڮ', 'گ', 'ڰ', 'ڱ', 'ڲ', 'ڳ', 'ڴ']\n",
    "    for char in string:\n",
    "        text = re.sub(char,'ك',text)\n",
    "    # 10. replace ھ with ه\n",
    "    text = re.sub(r'ھ','ه',text)\n",
    "\n",
    "    # remove all extra arabic characters (shift + ت) \n",
    "    text = re.sub(r'ـ','',text)\n",
    "\n",
    "    # remove non arabic characters\n",
    "    text = re.sub(r'[^\\u0620-\\u064A\\s]',' ',text)\n",
    "    \n",
    "    return text"
   ]
  },
  {
   "cell_type": "code",
   "execution_count": 27,
   "metadata": {},
   "outputs": [],
   "source": [
    "def clean_text(text):\n",
    "    \" removes all non arabic characters & replaces all spaces with a single space \"\n",
    "    # TODO: figure out how this works\n",
    "    # remove all non arabic characters & numbers\n",
    "    # text = re.sub(r'[^\\u0621-\\u064A\\u0660-\\u0669\\s]','',text)\n",
    "    \n",
    "    # remove all words with # in them\n",
    "    text = re.sub(r'[^\\s]*#[^\\s]*',' ',text)\n",
    "    \n",
    "    # arabic letters clean up \n",
    "    text = clean_arabic(text)\n",
    "        \n",
    "    # replace all white spaces with a single space\n",
    "    text = re.sub(r'\\s+',' ',text)\n",
    "    \n",
    "   \n",
    "    \n",
    "    return text "
   ]
  },
  {
   "cell_type": "code",
   "execution_count": 28,
   "metadata": {},
   "outputs": [],
   "source": [
    "cleaned_train_data = train['text'].apply(lambda x: clean_text(x))"
   ]
  },
  {
   "cell_type": "code",
   "execution_count": 29,
   "metadata": {},
   "outputs": [],
   "source": [
    "# Might need to download punkt & stopwords\n",
    "# ! Run the following lines in an empty cell if the code doesn't work\n",
    "# nltk.download('punkt')\n",
    "# nltk.download('stopwords')\n",
    "\n",
    "# currently this line just tokenizes the text using a space (I think)\n",
    "tokenized_train_data = [nltk.word_tokenize(text) for text in cleaned_train_data]"
   ]
  },
  {
   "cell_type": "code",
   "execution_count": 30,
   "metadata": {},
   "outputs": [
    {
     "data": {
      "text/plain": [
       "'الموت أرحم عندي من انو  آخد لقاح موهوب من دولة الاجرام الامارات وبوساطة سعد الحريري.'"
      ]
     },
     "execution_count": 30,
     "metadata": {},
     "output_type": "execute_result"
    }
   ],
   "source": [
    "train['text'][3185]"
   ]
  },
  {
   "cell_type": "code",
   "execution_count": 31,
   "metadata": {},
   "outputs": [],
   "source": [
    "def read_stop_words(stopwords_extracted_from_dataset):\n",
    "    file = open(\"stopwords/arabic.txt\", encoding='utf-8')\n",
    "    lines = file.readlines()\n",
    "    # print(lines)\n",
    "    for line in lines:\n",
    "        result=line.rstrip('\\n')\n",
    "        if len(result)>0:\n",
    "            stopwords_extracted_from_dataset.add(result)\n",
    "\n"
   ]
  },
  {
   "cell_type": "code",
   "execution_count": 32,
   "metadata": {},
   "outputs": [],
   "source": [
    "# remove stopwords\n",
    "stopwords = nltk.corpus.stopwords.words('arabic')\n",
    "tokenized_no_stopwords_train_data = [[word for word in text if word not in stopwords] for text in tokenized_train_data]\n",
    "\n",
    "# Here we're looking for more stopwords that are 2 characters or less\n",
    "# we spend hours doing just this for two or three character words\n",
    "stopwords_extracted_from_dataset = ['ال', 'اي', 'ان', 'تم', 'بن', \n",
    "                                    'او', 'اي', 'عم', 'ام', 'رض',\n",
    "                                    'في', 'فى', 'رب', 'سم', 'خط',\n",
    "                                    'ول', 'زي', 'دي', 'اذ', 'ده',\n",
    "                                    'دى', 'انه', 'ابو', 'احد']\n",
    "stopwords_extracted_from_dataset= set(stopwords_extracted_from_dataset)\n",
    "read_stop_words(stopwords_extracted_from_dataset)\n",
    "tokenized_no_stopwords_train_data_v2 = [[word for word in text if word not in stopwords_extracted_from_dataset] for text in tokenized_no_stopwords_train_data]"
   ]
  },
  {
   "cell_type": "code",
   "execution_count": 33,
   "metadata": {},
   "outputs": [],
   "source": [
    "stopwords_set = []\n",
    "for text in tokenized_no_stopwords_train_data_v2:\n",
    "    for word in text:\n",
    "        if len(word) <= 2:\n",
    "            stopwords_set.append((word, str(tokenized_no_stopwords_train_data_v2.index(text))))\n",
    "\n",
    "stopwords_set.sort()"
   ]
  },
  {
   "cell_type": "code",
   "execution_count": 34,
   "metadata": {},
   "outputs": [
    {
     "name": "stderr",
     "output_type": "stream",
     "text": [
      "100%|██████████| 6988/6988 [00:00<00:00, 9352.52it/s]\n"
     ]
    }
   ],
   "source": [
    "# Lemmatization\n",
    "stemmed_train = []\n",
    "\n",
    "for text in tqdm(tokenized_no_stopwords_train_data_v2):\n",
    "    curr_list = []\n",
    "    for word in text:\n",
    "        curr_list.append(ISRIStemmer().stem(word))\n",
    "    stemmed_train.append(curr_list)\n",
    "\n",
    "# stemmed_train = [[stemmer.stem(word) for word in text] for text in tokenized_no_stopwords_train_data_v2]"
   ]
  },
  {
   "cell_type": "code",
   "execution_count": 36,
   "metadata": {},
   "outputs": [],
   "source": [
    "# Write all of the texts into a file for visual comparison\n",
    "with open('output/original_train.txt', 'w',encoding=\"utf-8\") as f:\n",
    "    for text in train['text']:\n",
    "        f.write(text + '\\n\\n')\n",
    "f.close()\n",
    "\n",
    "with open('output/cleaned_up_train.txt', 'w',encoding=\"utf-8\") as f:\n",
    "    for text in cleaned_train_data:\n",
    "        f.write(text + '\\n\\n')\n",
    "f.close()\n",
    "\n",
    "with open('output/tokens_train.txt', 'w',encoding=\"utf-8\") as f:\n",
    "    for text in tokenized_train_data:\n",
    "        f.write(str(text) + '\\n\\n')\n",
    "f.close()\n",
    "\n",
    "with open('output/tokens_no_stopwords_train.txt', 'w',encoding=\"utf-8\") as f:\n",
    "    for text in tokenized_no_stopwords_train_data:\n",
    "        f.write(str(text) + '\\n\\n')\n",
    "f.close()\n",
    "\n",
    "with open('output/words_less_than_2.txt', 'w',encoding=\"utf-8\") as f:\n",
    "    for word in stopwords_set:\n",
    "        f.write(str(word) + '\\n')\n",
    "f.close()\n",
    "\n",
    "with open('output/stemmed_train.txt', 'w',encoding=\"utf-8\") as f:\n",
    "    for text in stemmed_train:\n",
    "        f.write(str(text) + '\\n\\n')\n",
    "f.close()\n",
    "# use alt + z to toggle word wrap in vscode "
   ]
  },
  {
   "cell_type": "code",
   "execution_count": null,
   "metadata": {},
   "outputs": [],
   "source": []
  }
 ],
 "metadata": {
  "kernelspec": {
   "display_name": "Python 3 (ipykernel)",
   "language": "python",
   "name": "python3"
  },
  "language_info": {
   "codemirror_mode": {
    "name": "ipython",
    "version": 3
   },
   "file_extension": ".py",
   "mimetype": "text/x-python",
   "name": "python",
   "nbconvert_exporter": "python",
   "pygments_lexer": "ipython3",
   "version": "3.9.12"
  },
  "vscode": {
   "interpreter": {
    "hash": "0de4e91a703ed839300569d00f5f7f96e515c5b82ac00b296860b354eb12ca4a"
   }
  }
 },
 "nbformat": 4,
 "nbformat_minor": 2
}
