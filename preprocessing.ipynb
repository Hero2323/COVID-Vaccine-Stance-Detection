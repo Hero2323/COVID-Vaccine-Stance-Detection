{
 "cells": [
  {
   "cell_type": "code",
   "execution_count": 27,
   "metadata": {},
   "outputs": [],
   "source": [
    "import pandas as pd\n",
    "import re\n",
    "import nltk"
   ]
  },
  {
   "cell_type": "code",
   "execution_count": 28,
   "metadata": {},
   "outputs": [],
   "source": [
    "train = pd.read_csv('dataset/train.csv')"
   ]
  },
  {
   "cell_type": "code",
   "execution_count": 29,
   "metadata": {},
   "outputs": [
    {
     "data": {
      "text/plain": [
       " 1    5538\n",
       " 0    1012\n",
       "-1     438\n",
       "Name: stance, dtype: int64"
      ]
     },
     "execution_count": 29,
     "metadata": {},
     "output_type": "execute_result"
    }
   ],
   "source": [
    "train['stance'].value_counts()"
   ]
  },
  {
   "cell_type": "code",
   "execution_count": 30,
   "metadata": {},
   "outputs": [],
   "source": [
    "def clean_text(text):\n",
    "    \" removes all non arabic characters & replaces all spaces with a single space \"\n",
    "    # TODO: figure out how this works\n",
    "    text = re.sub(r'[^\\u0621-\\u064A\\u0660-\\u0669\\s]','',text)\n",
    "    text = re.sub(r'\\s+',' ',text)\n",
    "    return text"
   ]
  },
  {
   "cell_type": "code",
   "execution_count": 31,
   "metadata": {},
   "outputs": [],
   "source": [
    "cleaned_train_data = train['text'].apply(lambda x: clean_text(x))"
   ]
  },
  {
   "cell_type": "code",
   "execution_count": 32,
   "metadata": {},
   "outputs": [],
   "source": [
    "# Might need to download punkt\n",
    "# ! Run the following lines in an empty cell if the code doesn't work\n",
    "# nltk.download('punkt')\n",
    "\n",
    "# currently this line just tokenizes the text using a space (I think), we can use stopwords\n",
    "# and a bunch of other things but this is a start\n",
    "tokenized_train_data = [nltk.word_tokenize(text) for text in cleaned_train_data]"
   ]
  },
  {
   "cell_type": "code",
   "execution_count": 34,
   "metadata": {},
   "outputs": [],
   "source": [
    "# Write all of the texts into a file for visual comparison\n",
    "with open('output/original_train.txt', 'w') as f:\n",
    "    for text in train['text']:\n",
    "        f.write(text + '\\n\\n')\n",
    "f.close()\n",
    "\n",
    "with open('output/cleaned_up_train.txt', 'w') as f:\n",
    "    for text in cleaned_train_data:\n",
    "        f.write(text + '\\n\\n')\n",
    "f.close()\n",
    "\n",
    "with open('output/tokens_train.txt', 'w') as f:\n",
    "    for text in tokenized_train_data:\n",
    "        f.write(str(text) + '\\n\\n')\n",
    "f.close()\n",
    "\n",
    "# use alt + z to toggle word wrap in vscode "
   ]
  },
  {
   "cell_type": "code",
   "execution_count": null,
   "metadata": {},
   "outputs": [],
   "source": []
  }
 ],
 "metadata": {
  "kernelspec": {
   "display_name": "Python 3.8.5 ('base')",
   "language": "python",
   "name": "python3"
  },
  "language_info": {
   "codemirror_mode": {
    "name": "ipython",
    "version": 3
   },
   "file_extension": ".py",
   "mimetype": "text/x-python",
   "name": "python",
   "nbconvert_exporter": "python",
   "pygments_lexer": "ipython3",
   "version": "3.8.5"
  },
  "orig_nbformat": 4,
  "vscode": {
   "interpreter": {
    "hash": "0eefc6a63c6d719296cee5685f23fefb92aa63e2e9fdaf52ddbdc4ce266c7bb3"
   }
  }
 },
 "nbformat": 4,
 "nbformat_minor": 2
}
