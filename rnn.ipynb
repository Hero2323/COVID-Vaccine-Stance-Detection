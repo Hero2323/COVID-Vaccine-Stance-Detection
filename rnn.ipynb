{
 "cells": [
  {
   "cell_type": "code",
   "execution_count": 1,
   "metadata": {},
   "outputs": [],
   "source": [
    "import pandas as pd\n",
    "import numpy as np\n",
    "import torch\n",
    "from tqdm import tqdm"
   ]
  },
  {
   "cell_type": "code",
   "execution_count": 2,
   "metadata": {},
   "outputs": [],
   "source": [
    "def edit_categories(x):\n",
    "    if x == 'info_news':\n",
    "        return 0\n",
    "    elif x == 'celebrity':\n",
    "        return 1\n",
    "    elif x == 'plan':\n",
    "        return 2\n",
    "    elif x == 'requests':\n",
    "        return 3\n",
    "    elif x == 'rumors':\n",
    "        return 4\n",
    "    elif x == 'advice':\n",
    "        return 5\n",
    "    elif x == 'restrictions':\n",
    "        return 6\n",
    "    elif x == 'personal':\n",
    "        return 7\n",
    "    elif x == 'unrelated':\n",
    "        return 8\n",
    "    elif x == 'others':\n",
    "        return 9\n",
    "    else:\n",
    "        return -1"
   ]
  },
  {
   "cell_type": "code",
   "execution_count": 3,
   "metadata": {},
   "outputs": [],
   "source": [
    "# build the pytorch dataset\n",
    "class ArabertDataset(torch.utils.data.Dataset):\n",
    "    def __init__(self, train=True, test=False):\n",
    "        if train:\n",
    "            embeddings = pd.read_pickle('dataset/train_arabert_not_padded.pkl')\n",
    "        elif test:\n",
    "            embeddings = pd.read_pickle('dataset/test_arabert_not_padded.pkl')\n",
    "        else:\n",
    "            embeddings = pd.read_pickle('dataset/val_arabert_not_padded.pkl')\n",
    "        pad_embedding = torch.zeros(1, 1, 768)\n",
    "        max_len = 0\n",
    "        embeddings = embeddings.values\n",
    "        for i in range(len(embeddings)):\n",
    "            if embeddings[i].shape[1] > max_len:\n",
    "                max_len = embeddings[i].shape[1]\n",
    "        for i in range(len(embeddings)):\n",
    "            if embeddings[i].shape[1] < max_len:\n",
    "                pad = torch.zeros(1, max_len - embeddings[i].shape[1], 768).to(torch.device('cuda'))\n",
    "                embeddings[i] = torch.cat((embeddings[i], pad), dim=1)\n",
    "            embeddings[i] = embeddings[i].view(max_len, 768)\n",
    "\n",
    "        if train:\n",
    "            labels = pd.read_pickle('dataset/stances_arabert.pkl')\n",
    "        elif test:\n",
    "            labels = pd.read_pickle('dataset/test_stances_arabert.pkl')\n",
    "        else:   \n",
    "            labels = pd.read_pickle('dataset/val_stances_arabert.pkl')\n",
    "        labels['category'] = labels['category'].apply(edit_categories)\n",
    "        self.embeddings = embeddings # already a tensor\n",
    "        self.stance = labels['stance']\n",
    "        self.category = labels['category']\n",
    "        self.stance = torch.tensor(self.stance.values)\n",
    "        self.category = torch.tensor(self.category.values)\n",
    "\n",
    "    def __len__(self):\n",
    "        return len(self.stance)\n",
    "\n",
    "    def __getitem__(self, idx):\n",
    "        return self.embeddings[idx], self.stance[idx], self.category[idx]"
   ]
  },
  {
   "cell_type": "code",
   "execution_count": 4,
   "metadata": {},
   "outputs": [],
   "source": [
    "if torch.cuda.is_available():\n",
    "    device = torch.device('cuda')\n",
    "else:\n",
    "    device = torch.device('cpu')"
   ]
  },
  {
   "cell_type": "code",
   "execution_count": 5,
   "metadata": {},
   "outputs": [
    {
     "data": {
      "text/plain": [
       "True"
      ]
     },
     "execution_count": 5,
     "metadata": {},
     "output_type": "execute_result"
    }
   ],
   "source": [
    "torch.cuda.is_available()"
   ]
  },
  {
   "cell_type": "code",
   "execution_count": 6,
   "metadata": {},
   "outputs": [],
   "source": [
    "# build the pytorch dataloader\n",
    "train_dataset = ArabertDataset()\n",
    "train_loader = torch.utils.data.DataLoader(train_dataset, batch_size=64, shuffle=True)\n",
    "\n",
    "# build the model\n",
    "class RNN(torch.nn.Module):\n",
    "    def __init__(self, input_size, hidden_size, num_layers, num_classes):\n",
    "        super(RNN, self).__init__()\n",
    "        self.hidden_size = hidden_size\n",
    "        self.num_layers = num_layers\n",
    "        self.rnn = torch.nn.RNN(input_size, hidden_size, num_layers, batch_first=True)\n",
    "        self.fc = torch.nn.Linear(hidden_size, num_classes)\n",
    "\n",
    "    def forward(self, x):\n",
    "        h0 = torch.zeros(self.num_layers, x.size(0), self.hidden_size).to(device)\n",
    "\n",
    "        out, _ = self.rnn(x, h0)\n",
    "        out = self.fc(out[:, -1, :])\n",
    "        return out"
   ]
  },
  {
   "cell_type": "code",
   "execution_count": 7,
   "metadata": {},
   "outputs": [
    {
     "name": "stderr",
     "output_type": "stream",
     "text": [
      "100%|██████████| 110/110 [00:02<00:00, 42.16it/s]\n",
      "  5%|▍         | 5/110 [00:00<00:02, 43.80it/s]"
     ]
    },
    {
     "name": "stdout",
     "output_type": "stream",
     "text": [
      "Epoch [1/10], Step [110/110], Loss: 0.2272\n",
      "Epoch [1/10], Step [110/110], Accuracy: 1.0000\n"
     ]
    },
    {
     "name": "stderr",
     "output_type": "stream",
     "text": [
      "100%|██████████| 110/110 [00:02<00:00, 42.16it/s]\n",
      "  5%|▍         | 5/110 [00:00<00:02, 45.48it/s]"
     ]
    },
    {
     "name": "stdout",
     "output_type": "stream",
     "text": [
      "Epoch [2/10], Step [110/110], Loss: 0.3697\n",
      "Epoch [2/10], Step [110/110], Accuracy: 0.9167\n"
     ]
    },
    {
     "name": "stderr",
     "output_type": "stream",
     "text": [
      "100%|██████████| 110/110 [00:02<00:00, 43.78it/s]\n",
      "  5%|▍         | 5/110 [00:00<00:02, 43.05it/s]"
     ]
    },
    {
     "name": "stdout",
     "output_type": "stream",
     "text": [
      "Epoch [3/10], Step [110/110], Loss: 0.9107\n",
      "Epoch [3/10], Step [110/110], Accuracy: 0.7500\n"
     ]
    },
    {
     "name": "stderr",
     "output_type": "stream",
     "text": [
      "100%|██████████| 110/110 [00:02<00:00, 43.41it/s]\n",
      "  5%|▍         | 5/110 [00:00<00:02, 45.00it/s]"
     ]
    },
    {
     "name": "stdout",
     "output_type": "stream",
     "text": [
      "Epoch [4/10], Step [110/110], Loss: 0.2448\n",
      "Epoch [4/10], Step [110/110], Accuracy: 1.0000\n"
     ]
    },
    {
     "name": "stderr",
     "output_type": "stream",
     "text": [
      "100%|██████████| 110/110 [00:02<00:00, 42.72it/s]\n",
      "  5%|▍         | 5/110 [00:00<00:02, 42.15it/s]"
     ]
    },
    {
     "name": "stdout",
     "output_type": "stream",
     "text": [
      "Epoch [5/10], Step [110/110], Loss: 0.5887\n",
      "Epoch [5/10], Step [110/110], Accuracy: 0.8333\n"
     ]
    },
    {
     "name": "stderr",
     "output_type": "stream",
     "text": [
      "100%|██████████| 110/110 [00:02<00:00, 44.16it/s]\n",
      "  5%|▍         | 5/110 [00:00<00:02, 41.00it/s]"
     ]
    },
    {
     "name": "stdout",
     "output_type": "stream",
     "text": [
      "Epoch [6/10], Step [110/110], Loss: 0.6620\n",
      "Epoch [6/10], Step [110/110], Accuracy: 0.7500\n"
     ]
    },
    {
     "name": "stderr",
     "output_type": "stream",
     "text": [
      "100%|██████████| 110/110 [00:02<00:00, 43.15it/s]\n",
      "  5%|▍         | 5/110 [00:00<00:02, 43.40it/s]"
     ]
    },
    {
     "name": "stdout",
     "output_type": "stream",
     "text": [
      "Epoch [7/10], Step [110/110], Loss: 0.5516\n",
      "Epoch [7/10], Step [110/110], Accuracy: 0.8333\n"
     ]
    },
    {
     "name": "stderr",
     "output_type": "stream",
     "text": [
      "100%|██████████| 110/110 [00:02<00:00, 44.16it/s]\n",
      "  5%|▍         | 5/110 [00:00<00:02, 43.42it/s]"
     ]
    },
    {
     "name": "stdout",
     "output_type": "stream",
     "text": [
      "Epoch [8/10], Step [110/110], Loss: 0.6678\n",
      "Epoch [8/10], Step [110/110], Accuracy: 0.8333\n"
     ]
    },
    {
     "name": "stderr",
     "output_type": "stream",
     "text": [
      "100%|██████████| 110/110 [00:02<00:00, 43.53it/s]\n",
      "  5%|▍         | 5/110 [00:00<00:02, 41.50it/s]"
     ]
    },
    {
     "name": "stdout",
     "output_type": "stream",
     "text": [
      "Epoch [9/10], Step [110/110], Loss: 0.7528\n",
      "Epoch [9/10], Step [110/110], Accuracy: 0.7500\n"
     ]
    },
    {
     "name": "stderr",
     "output_type": "stream",
     "text": [
      "100%|██████████| 110/110 [00:02<00:00, 43.31it/s]"
     ]
    },
    {
     "name": "stdout",
     "output_type": "stream",
     "text": [
      "Epoch [10/10], Step [110/110], Loss: 0.7512\n",
      "Epoch [10/10], Step [110/110], Accuracy: 0.7500\n"
     ]
    },
    {
     "name": "stderr",
     "output_type": "stream",
     "text": [
      "\n"
     ]
    }
   ],
   "source": [
    "# train the model\n",
    "model = RNN(768, 256, 4, 3).to(device)\n",
    "criterion = torch.nn.CrossEntropyLoss()\n",
    "optimizer = torch.optim.Adam(model.parameters(), lr=1e-3)\n",
    "\n",
    "for epoch in range(10):\n",
    "    for i, (embedding, stance, category) in enumerate(tqdm(train_loader)):\n",
    "        embedding = embedding.to(device)\n",
    "        stance = stance.to(device)\n",
    "        category = category.to(device)\n",
    "\n",
    "        outputs = model(embedding)\n",
    "        loss = criterion(outputs, stance)\n",
    "\n",
    "        optimizer.zero_grad()\n",
    "        loss.backward()\n",
    "        optimizer.step()\n",
    "\n",
    "        # calculate the total epoch accuracy\n",
    "        _, predicted = torch.max(outputs.data, 1)\n",
    "        total = stance.size(0)\n",
    "        correct = (predicted == stance).sum().item()\n",
    "        accuracy = correct / total\n",
    "\n",
    "        if (i+1) % len(train_loader) == 0:\n",
    "            print(f'Epoch [{epoch+1}/{10}], Step [{i+1}/{len(train_loader)}], Loss: {loss.item():.4f}')\n",
    "            print(f'Epoch [{epoch+1}/{10}], Step [{i+1}/{len(train_loader)}], Accuracy: {accuracy:.4f}')"
   ]
  },
  {
   "cell_type": "code",
   "execution_count": 8,
   "metadata": {},
   "outputs": [
    {
     "name": "stdout",
     "output_type": "stream",
     "text": [
      "Accuracy of the model on the dev set: 80.4%\n"
     ]
    }
   ],
   "source": [
    "# inference mode\n",
    "model.eval()\n",
    "\n",
    "# load the dev set\n",
    "dev_dataset = ArabertDataset(train=False)\n",
    "dev_loader = torch.utils.data.DataLoader(dev_dataset, batch_size=64, shuffle=True)\n",
    "\n",
    "# get accuracy on development set\n",
    "with torch.no_grad():\n",
    "    correct = 0\n",
    "    total = 0\n",
    "    for embedding, stance, category in dev_loader:\n",
    "        embedding = embedding.to(device)\n",
    "        stance = stance.to(device)\n",
    "        category = category.to(device)\n",
    "\n",
    "        outputs = model(embedding)\n",
    "        _, predicted = torch.max(outputs.data, 1)\n",
    "        total += stance.size(0)\n",
    "        correct += (predicted == stance).sum().item()\n",
    "    print(f'Accuracy of the model on the dev set: {100 * correct / total}%')\n"
   ]
  },
  {
   "cell_type": "code",
   "execution_count": null,
   "metadata": {},
   "outputs": [],
   "source": []
  }
 ],
 "metadata": {
  "kernelspec": {
   "display_name": "base",
   "language": "python",
   "name": "python3"
  },
  "language_info": {
   "codemirror_mode": {
    "name": "ipython",
    "version": 3
   },
   "file_extension": ".py",
   "mimetype": "text/x-python",
   "name": "python",
   "nbconvert_exporter": "python",
   "pygments_lexer": "ipython3",
   "version": "3.8.5 (default, Sep  4 2020, 07:30:14) \n[GCC 7.3.0]"
  },
  "orig_nbformat": 4,
  "vscode": {
   "interpreter": {
    "hash": "0eefc6a63c6d719296cee5685f23fefb92aa63e2e9fdaf52ddbdc4ce266c7bb3"
   }
  }
 },
 "nbformat": 4,
 "nbformat_minor": 2
}
