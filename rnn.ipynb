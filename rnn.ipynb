{
 "cells": [
  {
   "cell_type": "code",
   "execution_count": 1,
   "metadata": {},
   "outputs": [],
   "source": [
    "import pandas as pd\n",
    "import numpy as np\n",
    "import torch\n",
    "from torch.autograd import Variable \n",
    "from tqdm import tqdm"
   ]
  },
  {
   "cell_type": "code",
   "execution_count": 2,
   "metadata": {},
   "outputs": [],
   "source": [
    "def edit_categories(x):\n",
    "    if x == 'info_news':\n",
    "        return 0\n",
    "    elif x == 'celebrity':\n",
    "        return 1\n",
    "    elif x == 'plan':\n",
    "        return 2\n",
    "    elif x == 'requests':\n",
    "        return 3\n",
    "    elif x == 'rumors':\n",
    "        return 4\n",
    "    elif x == 'advice':\n",
    "        return 5\n",
    "    elif x == 'restrictions':\n",
    "        return 6\n",
    "    elif x == 'personal':\n",
    "        return 7\n",
    "    elif x == 'unrelated':\n",
    "        return 8\n",
    "    elif x == 'others':\n",
    "        return 9\n",
    "    else:\n",
    "        return -1"
   ]
  },
  {
   "cell_type": "code",
   "execution_count": 3,
   "metadata": {},
   "outputs": [],
   "source": [
    "'''\n",
    "\n",
    "# build the pytorch dataset\n",
    "class ArabertDataset(torch.utils.data.Dataset):\n",
    "    def __init__(self):\n",
    "        embeddings = pd.read_pickle('dataset/train_arabert_not_padded.pkl')\n",
    "        pad_embedding = torch.zeros(1, 1, 768)\n",
    "        max_len = 0\n",
    "        for i in range(len(embeddings)):\n",
    "            if embeddings[i].shape[1] > max_len:\n",
    "                max_len = embeddings[i].shape[1]\n",
    "        for i in range(len(embeddings)):\n",
    "            if embeddings[i].shape[1] < max_len:\n",
    "                pad = torch.zeros(1, max_len - embeddings[i].shape[1], 768)\n",
    "                embeddings[i] = torch.cat((embeddings[i], pad), dim=1)\n",
    "            embeddings[i] = embeddings[i].view(max_len, 768)\n",
    "\n",
    "        labels = pd.read_csv('dataset/train.csv').drop('text', axis=1, inplace=False)\n",
    "        labels['category'] = labels['category'].apply(edit_categories)\n",
    "        self.embeddings = embeddings # already a tensor\n",
    "        self.stance = labels['stance']\n",
    "\n",
    "        self.stance = self.stance + 1\n",
    "        self.category = labels['category']\n",
    "        self.stance = torch.tensor(self.stance)\n",
    "        self.category = torch.tensor(self.category)\n",
    "\n",
    "\n",
    "\n",
    "    def __len__(self):\n",
    "        return len(self.stance)\n",
    "\n",
    "    def __getitem__(self, idx):\n",
    "        return self.embeddings[idx], self.stance[idx], self.category[idx]\n",
    "\n",
    "'''"
   ]
  },
  {
   "cell_type": "code",
   "execution_count": null,
   "metadata": {},
   "outputs": [],
   "source": [
    "# build the pytorch dataset\n",
    "class ArabertDataset(torch.utils.data.Dataset):\n",
    "    def __init__(self):\n",
    "        embeddings = pd.read_pickle('dataset/train_arabert_not_padded.pkl')\n",
    "        pad_embedding = torch.zeros(1, 1, 768)\n",
    "        max_len = 0\n",
    "        for i in range(len(embeddings)):\n",
    "            if embeddings[i].shape[1] > max_len:\n",
    "                max_len = embeddings[i].shape[1]\n",
    "        for i in range(len(embeddings)):\n",
    "            if embeddings[i].shape[1] < max_len:\n",
    "                pad = torch.zeros(1, max_len - embeddings[i].shape[1], 768)\n",
    "                embeddings[i] = torch.cat((embeddings[i], pad), dim=1)\n",
    "            embeddings[i] = embeddings[i].view(max_len, 768)\n",
    "\n",
    "        labels = pd.read_csv('dataset/train.csv').drop('text', axis=1, inplace=False)\n",
    "        labels['category'] = labels['category'].apply(edit_categories)\n",
    "        #self.embeddings = embeddings # already a tensor\n",
    "        self.stance = labels['stance']\n",
    "\n",
    "        self.stance = self.stance + 1\n",
    "        self.category = labels['category']\n",
    "        #self.stance = torch.tensor(self.stance)\n",
    "        self.category = torch.tensor(self.category)\n",
    "\n",
    "\n",
    "        self.embeddings = Variable(embeddings)              # I saw someone doing this\n",
    "        self.stance = Variable(torch.Tensor(self.stance))\n",
    "\n",
    "\n",
    "    def __len__(self):\n",
    "        return len(self.stance)\n",
    "\n",
    "    def __getitem__(self, idx):\n",
    "        return self.embeddings[idx], self.stance[idx], self.category[idx]"
   ]
  },
  {
   "cell_type": "code",
   "execution_count": 4,
   "metadata": {},
   "outputs": [],
   "source": [
    "if torch.cuda.is_available():\n",
    "    device = torch.device('cuda')\n",
    "else:\n",
    "    device = torch.device('cpu')"
   ]
  },
  {
   "cell_type": "code",
   "execution_count": 15,
   "metadata": {},
   "outputs": [],
   "source": [
    "# build the pytorch dataloader\n",
    "train_dataset = ArabertDataset()\n",
    "train_loader = torch.utils.data.DataLoader(train_dataset, batch_size=32, shuffle=True)\n",
    "\n",
    "'''\n",
    "# build the model\n",
    "class RNN(torch.nn.Module):\n",
    "\n",
    "        def __init__(self, input_size, hidden_size, num_layers, num_classes):\n",
    "            super(RNN, self).__init__()\n",
    "        self.hidden_size = hidden_size\n",
    "        self.num_layers = num_layers\n",
    "        self.rnn = torch.nn.RNN(input_size, hidden_size, num_layers, batch_first=True)\n",
    "        self.fc = torch.nn.Linear(hidden_size, num_classes)\n",
    "\n",
    "\n",
    "\n",
    "\n",
    "    def forward(self, x):\n",
    "        h0 = torch.zeros(self.num_layers, x.size(0), self.hidden_size).to(device)\n",
    "        c0 = torch.zeros(self.num_layers, x.size(0), self.hidden_size).to(device)\n",
    "\n",
    "        out, _ = self.rnn(x, h0)\n",
    "        out = self.fc(out[:, -1, :])\n",
    "        return out\n",
    "\n",
    "    '''\n",
    "\n"
   ]
  },
  {
   "cell_type": "code",
   "execution_count": null,
   "metadata": {},
   "outputs": [],
   "source": [
    "\n",
    "class RNN(torch.nn.Module):\n",
    "#I also saw him doing this\n",
    "\n",
    "    def __init__(self, num_classes, input_size, hidden_size, num_layers, seq_length):\n",
    "        super(RNN, self).__init__()\n",
    "        self.num_classes = num_classes #number of classes\n",
    "        self.num_layers = num_layers #number of layers\n",
    "        self.input_size = input_size #input size\n",
    "        self.hidden_size = hidden_size #hidden state\n",
    "        self.seq_length = seq_length #sequence length\n",
    "\n",
    "        self.lstm = torch.nn.LSTM(input_size=input_size, hidden_size=hidden_size,\n",
    "                          num_layers=num_layers, batch_first=True) #lstm\n",
    "        self.fc_1 =  torch.nn.Linear(hidden_size, 128) #fully connected 1\n",
    "        self.fc = torch.nn.Linear(128, num_classes) #fully connected last layer\n",
    "\n",
    "        self.relu = torch.nn.ReLU()\n",
    "    \n",
    "    def forward(self,x):\n",
    "        h_0 = Variable(torch.zeros(self.num_layers, x.size(0), self.hidden_size).to(device)) #hidden state\n",
    "        c_0 = Variable(torch.zeros(self.num_layers, x.size(0), self.hidden_size).to(device)) #internal state\n",
    "        # Propagate input through LSTM\n",
    "        output, (hn, cn) = self.lstm(x, (h_0, c_0)) #lstm with input, hidden, and internal state\n",
    "        hn = hn.view(-1, self.hidden_size) #reshaping the data for Dense layer next\n",
    "        out = self.relu(hn)\n",
    "        out = self.fc_1(out) #first Dense\n",
    "        out = self.relu(out) #relu\n",
    "        out = self.fc(out) #Final Output\n",
    "        return out"
   ]
  },
  {
   "cell_type": "code",
   "execution_count": 17,
   "metadata": {},
   "outputs": [
    {
     "name": "stderr",
     "output_type": "stream",
     "text": [
      "100%|██████████| 219/219 [03:23<00:00,  1.07it/s]\n",
      "  0%|          | 0/219 [00:00<?, ?it/s]"
     ]
    },
    {
     "name": "stdout",
     "output_type": "stream",
     "text": [
      "Epoch [1/10], Step [219/219], Loss: 0.4172\n"
     ]
    },
    {
     "name": "stderr",
     "output_type": "stream",
     "text": [
      "100%|██████████| 219/219 [02:53<00:00,  1.26it/s]\n",
      "  0%|          | 0/219 [00:00<?, ?it/s]"
     ]
    },
    {
     "name": "stdout",
     "output_type": "stream",
     "text": [
      "Epoch [2/10], Step [219/219], Loss: 0.6149\n"
     ]
    },
    {
     "name": "stderr",
     "output_type": "stream",
     "text": [
      "100%|██████████| 219/219 [03:08<00:00,  1.16it/s]\n",
      "  0%|          | 0/219 [00:00<?, ?it/s]"
     ]
    },
    {
     "name": "stdout",
     "output_type": "stream",
     "text": [
      "Epoch [3/10], Step [219/219], Loss: 0.3338\n"
     ]
    },
    {
     "name": "stderr",
     "output_type": "stream",
     "text": [
      " 82%|████████▏ | 179/219 [02:30<00:35,  1.12it/s]"
     ]
    }
   ],
   "source": [
    "# train the model\n",
    "model = RNN(768, 256, 4, 3).to(device)\n",
    "criterion = torch.nn.CrossEntropyLoss()\n",
    "optimizer = torch.optim.Adam(model.parameters(), lr=0.005)\n",
    "\n",
    "for epoch in range(10):\n",
    "    for i, (embedding, stance, category) in enumerate(tqdm(train_loader)):\n",
    "\n",
    "        outputs = model(embedding)\n",
    "        loss = criterion(outputs, stance)\n",
    "\n",
    "        optimizer.zero_grad()\n",
    "        loss.backward()\n",
    "        optimizer.step()\n",
    "\n",
    "    # calculate the epoch accuracy\n",
    "\n",
    "\n",
    "        if (i+1) % len(train_loader) == 0:\n",
    "            print(f'Epoch [{epoch+1}/{10}], Step [{i+1}/{len(train_loader)}], Loss: {loss.item():.4f}')"
   ]
  },
  {
   "cell_type": "code",
   "execution_count": 1,
   "metadata": {},
   "outputs": [
    {
     "ename": "NameError",
     "evalue": "name 'LSTM1' is not defined",
     "output_type": "error",
     "traceback": [
      "\u001b[1;31m---------------------------------------------------------------------------\u001b[0m",
      "\u001b[1;31mNameError\u001b[0m                                 Traceback (most recent call last)",
      "Cell \u001b[1;32mIn [1], line 1\u001b[0m\n\u001b[1;32m----> 1\u001b[0m lstm1 \u001b[39m=\u001b[39m LSTM1(num_classes, input_size, hidden_size, num_layers, X_train_tensors_final\u001b[39m.\u001b[39mshape[\u001b[39m1\u001b[39m])\u001b[39m.\u001b[39mto(device) \u001b[39m#our lstm class \u001b[39;00m\n\u001b[0;32m      3\u001b[0m criterion \u001b[39m=\u001b[39m torch\u001b[39m.\u001b[39mnn\u001b[39m.\u001b[39mCrossEntropyLoss()    \u001b[39m# mean-squared error for regression\u001b[39;00m\n\u001b[0;32m      4\u001b[0m optimizer \u001b[39m=\u001b[39m torch\u001b[39m.\u001b[39moptim\u001b[39m.\u001b[39mAdam(lstm1\u001b[39m.\u001b[39mparameters(), lr\u001b[39m=\u001b[39m\u001b[39m0.01\u001b[39m) \n",
      "\u001b[1;31mNameError\u001b[0m: name 'LSTM1' is not defined"
     ]
    }
   ],
   "source": [
    "lstm1 = LSTM1(num_classes, input_size, hidden_size, num_layers, X_train_tensors_final.shape[1]).to(device) #our lstm class \n",
    "\n",
    "criterion = torch.nn.CrossEntropyLoss()    # mean-squared error for regression\n",
    "optimizer = torch.optim.Adam(lstm1.parameters(), lr=0.01) \n",
    "\n",
    "\n",
    "\n",
    "for epoch in range(10):\n",
    "    for i, (embedding, stance, category) in enumerate(tqdm(train_loader)):\n",
    "\n",
    "        outputs = model(embedding)\n",
    "        loss = criterion(outputs, stance)\n",
    "\n",
    "        optimizer.zero_grad()\n",
    "        loss.backward()\n",
    "        optimizer.step()\n",
    "\n",
    "    # calculate the epoch accuracy\n",
    "\n",
    "\n",
    "        if (i+1) % len(train_loader) == 0:\n",
    "            print(f'Epoch [{epoch+1}/{10}], Step [{i+1}/{len(train_loader)}], Loss: {loss.item():.4f}')\n",
    "\n",
    "\n",
    "'''\n",
    "for epoch in range(num_epochs):\n",
    "      outputs = lstm1.forward(X_train_tensors_final) #forward pass\n",
    "  optimizer.zero_grad() #caluclate the gradient, manually setting to 0\n",
    " \n",
    "  # obtain the loss function\n",
    "  loss = criterion(outputs, y_train_tensors)\n",
    " \n",
    "  loss.backward() #calculates the loss of the loss function\n",
    " \n",
    "  optimizer.step() #improve from loss, i.e backprop\n",
    "  if epoch % 100 == 0:\n",
    "    print(\"Epoch: %d, loss: %1.5f\" % (epoch, loss.item())) \n",
    "'''\n",
    "\n"
   ]
  }
 ],
 "metadata": {
  "kernelspec": {
   "display_name": "Python 3",
   "language": "python",
   "name": "python3"
  },
  "language_info": {
   "codemirror_mode": {
    "name": "ipython",
    "version": 3
   },
   "file_extension": ".py",
   "mimetype": "text/x-python",
   "name": "python",
   "nbconvert_exporter": "python",
   "pygments_lexer": "ipython3",
   "version": "3.10.1"
  },
  "orig_nbformat": 4,
  "vscode": {
   "interpreter": {
    "hash": "d60fe05ab80fea0afb1a7376ded182976bfead7f5cd417a1edbe8ad0d2cfba3b"
   }
  }
 },
 "nbformat": 4,
 "nbformat_minor": 2
}
